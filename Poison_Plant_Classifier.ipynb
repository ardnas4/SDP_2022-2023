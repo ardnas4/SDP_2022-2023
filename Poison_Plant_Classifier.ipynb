{
  "cells": [
    {
      "cell_type": "markdown",
      "metadata": {
        "id": "view-in-github",
        "colab_type": "text"
      },
      "source": [
        "<a href=\"https://colab.research.google.com/github/ardnas4/SDP_2022-2023/blob/main/Poison_Plant_Classifier.ipynb\" target=\"_parent\"><img src=\"https://colab.research.google.com/assets/colab-badge.svg\" alt=\"Open In Colab\"/></a>"
      ]
    },
    {
      "cell_type": "code",
      "execution_count": 1,
      "metadata": {
        "id": "EINB9fhdWmxI"
      },
      "outputs": [],
      "source": [
        "import os\n",
        "from tensorflow import keras\n",
        "from keras.models import Model\n",
        "from keras.preprocessing.image import ImageDataGenerator\n",
        "from keras.callbacks import ModelCheckpoint, EarlyStopping\n",
        "from keras.layers import Dense, Dropout, Flatten\n",
        "from pathlib import Path\n",
        "import numpy as np\n",
        "import tensorflow as tf\n",
        "from keras.applications import ResNet50"
      ]
    },
    {
      "cell_type": "code",
      "execution_count": 2,
      "metadata": {
        "colab": {
          "base_uri": "https://localhost:8080/"
        },
        "id": "5Cl-Wwt6br0b",
        "outputId": "73f850aa-ded9-4611-df29-6e450d5f8a44"
      },
      "outputs": [
        {
          "output_type": "stream",
          "name": "stdout",
          "text": [
            "Mounted at /content/drive\n"
          ]
        }
      ],
      "source": [
        "# on Google Colab, get the dataset from drive\n",
        "from google.colab import drive\n",
        "drive.mount('/content/drive')"
      ]
    },
    {
      "cell_type": "code",
      "execution_count": 3,
      "metadata": {
        "colab": {
          "base_uri": "https://localhost:8080/"
        },
        "id": "PvtNhK3nbwde",
        "outputId": "ae8bd6df-776f-4930-856e-02c4e1efcad5"
      },
      "outputs": [
        {
          "output_type": "stream",
          "name": "stdout",
          "text": [
            "Done\n"
          ]
        }
      ],
      "source": [
        "# unzip the dataset for use\n",
        "from zipfile import ZipFile\n",
        "file_name = '/content/drive/MyDrive/Poison Plant Classifier/Dataset.zip'\n",
        "\n",
        "with ZipFile(file_name, 'r') as zip:\n",
        "  zip.extractall()\n",
        "  print('Done')"
      ]
    },
    {
      "cell_type": "code",
      "execution_count": 4,
      "metadata": {
        "colab": {
          "base_uri": "https://localhost:8080/"
        },
        "id": "ax0BW0qObDSK",
        "outputId": "a48e624b-6caf-466b-b151-45c2e05c3625"
      },
      "outputs": [
        {
          "output_type": "stream",
          "name": "stdout",
          "text": [
            "Looking in indexes: https://pypi.org/simple, https://us-python.pkg.dev/colab-wheels/public/simple/\n",
            "Collecting split-folders\n",
            "  Downloading split_folders-0.5.1-py3-none-any.whl (8.4 kB)\n",
            "Installing collected packages: split-folders\n",
            "Successfully installed split-folders-0.5.1\n"
          ]
        }
      ],
      "source": [
        "!pip install split-folders"
      ]
    },
    {
      "cell_type": "code",
      "execution_count": 5,
      "metadata": {
        "colab": {
          "base_uri": "https://localhost:8080/"
        },
        "id": "b-rZOpkgbMMF",
        "outputId": "c68a4db5-ed30-4bd8-dd4c-4893230220a5"
      },
      "outputs": [
        {
          "output_type": "stream",
          "name": "stderr",
          "text": [
            "Copying files: 10610 files [00:04, 2412.09 files/s]\n"
          ]
        }
      ],
      "source": [
        "import splitfolders\n",
        "\n",
        "splitfolders.ratio(\"Dataset\", # The location of dataset\n",
        "                   output=\"Training_Datasets\", # The output location\n",
        "                   seed=42, # The number of seed\n",
        "                   ratio=(.8, .2), # The ratio of splited dataset\n",
        "                   group_prefix=None, # If your dataset contains more than one file like \".jpg\", \".pdf\", etc\n",
        "                   move=False # If you choose to move, turn this into True\n",
        "                   )"
      ]
    },
    {
      "cell_type": "code",
      "execution_count": 6,
      "metadata": {
        "colab": {
          "base_uri": "https://localhost:8080/"
        },
        "id": "xV-Q4d1H46k0",
        "outputId": "9049be81-89a1-4a8b-e84d-ce86388c25fb"
      },
      "outputs": [
        {
          "output_type": "stream",
          "name": "stdout",
          "text": [
            "Found 8486 files belonging to 4 classes.\n",
            "Found 2124 files belonging to 4 classes.\n"
          ]
        }
      ],
      "source": [
        "train_dir = os.path.join('/content/Training_Datasets', 'train')\n",
        "validation_dir = os.path.join('/content/Training_Datasets', 'val')\n",
        "\n",
        "train_dataset = tf.keras.utils.image_dataset_from_directory(train_dir,\n",
        "                                                            shuffle=True,\n",
        "                                                            label_mode='int',\n",
        "                                                            batch_size=64,\n",
        "                                                            image_size=(224, 224))\n",
        "\n",
        "validation_dataset = tf.keras.utils.image_dataset_from_directory(validation_dir,\n",
        "                                                                 shuffle=True,\n",
        "                                                                 label_mode='int',\n",
        "                                                                 batch_size=64,\n",
        "                                                                 image_size=(224, 224))"
      ]
    },
    {
      "cell_type": "code",
      "execution_count": 14,
      "metadata": {
        "id": "TOs1tXd8Wm9M"
      },
      "outputs": [],
      "source": [
        "base_model = keras.Sequential()\n",
        "base_model.add(ResNet50(include_top=False, weights='imagenet', pooling='max'))\n",
        "base_model.add(Dropout(0.4))\n",
        "base_model.add(Dense(4, activation='softmax'))\n",
        "\n",
        "base_model.compile(optimizer = tf.keras.optimizers.SGD(learning_rate=0.0001), loss = 'sparse_categorical_crossentropy', metrics = ['accuracy'])"
      ]
    },
    {
      "cell_type": "code",
      "execution_count": 15,
      "metadata": {
        "colab": {
          "base_uri": "https://localhost:8080/"
        },
        "id": "AaOYZlWp-goZ",
        "outputId": "e7a97ca7-b2dc-4aec-b663-4fe011d5d35c"
      },
      "outputs": [
        {
          "output_type": "stream",
          "name": "stdout",
          "text": [
            "Epoch 1/20\n",
            "133/133 [==============================] - 97s 694ms/step - loss: 6.7343 - accuracy: 0.3459 - val_loss: 3.0346 - val_accuracy: 0.4873\n",
            "Epoch 2/20\n",
            "133/133 [==============================] - 92s 685ms/step - loss: 4.4186 - accuracy: 0.4453 - val_loss: 2.6955 - val_accuracy: 0.5414\n",
            "Epoch 3/20\n",
            "133/133 [==============================] - 92s 685ms/step - loss: 2.9689 - accuracy: 0.4649 - val_loss: 2.4407 - val_accuracy: 0.5471\n",
            "Epoch 4/20\n",
            "133/133 [==============================] - 92s 683ms/step - loss: 2.4124 - accuracy: 0.4901 - val_loss: 2.0569 - val_accuracy: 0.5508\n",
            "Epoch 5/20\n",
            "133/133 [==============================] - 92s 683ms/step - loss: 2.1471 - accuracy: 0.5185 - val_loss: 1.4167 - val_accuracy: 0.5772\n",
            "Epoch 6/20\n",
            "133/133 [==============================] - 92s 684ms/step - loss: 1.9742 - accuracy: 0.5355 - val_loss: 1.9113 - val_accuracy: 0.5871\n",
            "Epoch 7/20\n",
            "133/133 [==============================] - 92s 683ms/step - loss: 1.7698 - accuracy: 0.5503 - val_loss: 1.3744 - val_accuracy: 0.6031\n",
            "Epoch 8/20\n",
            "133/133 [==============================] - 92s 682ms/step - loss: 1.7083 - accuracy: 0.5623 - val_loss: 1.3829 - val_accuracy: 0.6121\n",
            "Epoch 9/20\n",
            "133/133 [==============================] - 93s 696ms/step - loss: 1.5974 - accuracy: 0.5863 - val_loss: 1.2699 - val_accuracy: 0.6201\n",
            "Epoch 10/20\n",
            "133/133 [==============================] - 92s 683ms/step - loss: 1.4698 - accuracy: 0.5884 - val_loss: 1.3772 - val_accuracy: 0.6121\n",
            "Epoch 11/20\n",
            "133/133 [==============================] - 92s 685ms/step - loss: 1.4448 - accuracy: 0.6059 - val_loss: 1.1587 - val_accuracy: 0.6403\n",
            "Epoch 12/20\n",
            "133/133 [==============================] - 92s 683ms/step - loss: 1.3492 - accuracy: 0.6177 - val_loss: 1.1378 - val_accuracy: 0.6483\n",
            "Epoch 13/20\n",
            "133/133 [==============================] - 92s 683ms/step - loss: 1.2213 - accuracy: 0.6394 - val_loss: 1.3047 - val_accuracy: 0.6483\n",
            "Epoch 14/20\n",
            "133/133 [==============================] - 92s 684ms/step - loss: 1.2041 - accuracy: 0.6418 - val_loss: 1.1872 - val_accuracy: 0.6573\n",
            "Epoch 15/20\n",
            "133/133 [==============================] - 92s 681ms/step - loss: 1.1586 - accuracy: 0.6520 - val_loss: 1.1482 - val_accuracy: 0.6704\n",
            "Epoch 16/20\n",
            "133/133 [==============================] - 92s 685ms/step - loss: 1.1412 - accuracy: 0.6651 - val_loss: 1.0345 - val_accuracy: 0.6681\n",
            "Epoch 17/20\n",
            "133/133 [==============================] - 92s 683ms/step - loss: 1.0830 - accuracy: 0.6625 - val_loss: 1.0784 - val_accuracy: 0.6784\n",
            "Epoch 18/20\n",
            "133/133 [==============================] - 92s 684ms/step - loss: 1.0401 - accuracy: 0.6808 - val_loss: 1.0400 - val_accuracy: 0.6756\n",
            "Epoch 19/20\n",
            "133/133 [==============================] - 92s 683ms/step - loss: 0.9691 - accuracy: 0.6884 - val_loss: 1.0118 - val_accuracy: 0.6855\n",
            "Epoch 20/20\n",
            "133/133 [==============================] - 92s 685ms/step - loss: 0.9817 - accuracy: 0.6885 - val_loss: 0.9871 - val_accuracy: 0.6883\n"
          ]
        }
      ],
      "source": [
        "resnet_history = base_model.fit(train_dataset, validation_data = validation_dataset, epochs = 20)"
      ]
    },
    {
      "cell_type": "code",
      "execution_count": 16,
      "metadata": {
        "id": "I_iOdebiiKdZ",
        "colab": {
          "base_uri": "https://localhost:8080/",
          "height": 499
        },
        "outputId": "dae6db0d-1246-4f69-f9b1-ff40d5af36e8"
      },
      "outputs": [
        {
          "output_type": "display_data",
          "data": {
            "text/plain": [
              "<Figure size 576x576 with 2 Axes>"
            ],
            "image/png": "[encoded data removed]"
          },
          "metadata": {
            "needs_background": "light"
          }
        }
      ],
      "source": [
        "import matplotlib.pyplot as plt\n",
        "\n",
        "acc = resnet_history.history['accuracy']\n",
        "val_acc = resnet_history.history['val_accuracy']\n",
        "\n",
        "loss = resnet_history.history['loss']\n",
        "val_loss = resnet_history.history['val_loss']\n",
        "\n",
        "epochs_range = range(20)\n",
        "\n",
        "plt.figure(figsize=(8, 8))\n",
        "plt.subplot(1, 2, 1)\n",
        "plt.plot(epochs_range, acc, label='Training Accuracy')\n",
        "plt.plot(epochs_range, val_acc, label='Validation Accuracy')\n",
        "plt.legend(loc='lower right')\n",
        "plt.title('Training and Validation Accuracy')\n",
        "\n",
        "plt.subplot(1, 2, 2)\n",
        "plt.plot(epochs_range, loss, label='Training Loss')\n",
        "plt.plot(epochs_range, val_loss, label='Validation Loss')\n",
        "plt.legend(loc='upper right')\n",
        "plt.title('Training and Validation Loss')\n",
        "plt.show()"
      ]
    }
  ],
  "metadata": {
    "accelerator": "GPU",
    "colab": {
      "provenance": [],
      "authorship_tag": "ABX9TyO4FVw5aLfdaXX4qFV9oS83",
      "include_colab_link": true
    },
    "gpuClass": "standard",
    "kernelspec": {
      "display_name": "Python 3",
      "name": "python3"
    },
    "language_info": {
      "name": "python"
    }
  },
  "nbformat": 4,
  "nbformat_minor": 0
}