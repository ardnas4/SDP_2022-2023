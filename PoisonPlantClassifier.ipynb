{
 "cells": [
  {
   "cell_type": "code",
   "execution_count": 1,
   "metadata": {},
   "outputs": [],
   "source": [
    "# for creating graphs\n",
    "import matplotlib.pyplot as plt\n",
    "import numpy as np\n",
    "\n",
    "# image processing library for opening, manipulating, and saving many different image file formats\n",
    "import PIL\n",
    "\n",
    "# machine learning packages\n",
    "import tensorflow as tf\n",
    "\n",
    "# deep learning API for artificial neural networks\n",
    "from tensorflow import keras\n",
    "\n",
    "# layers are basic building blocks of neural networks in Keras\n",
    "# consists of a tensor-in tensor-out computation function (the layer's call method) and some state, held in TensorFlow variables (the layer's weights)\n",
    "from keras import layers\n",
    "\n",
    "# used for a plain stack of layers where each layer has exactly one input tensor and one output tensor\n",
    "from keras.models import Sequential"
   ]
  },
  {
   "cell_type": "markdown",
   "metadata": {},
   "source": [
    "1. Create a dataset"
   ]
  },
  {
   "cell_type": "code",
   "execution_count": 3,
   "metadata": {},
   "outputs": [
    {
     "name": "stdout",
     "output_type": "stream",
     "text": [
      "C:\\Users\\chibi\\.keras\\datasets\\flower_photos\n"
     ]
    }
   ],
   "source": [
    "import pathlib\n",
    "\n",
    "data_dir = pathlib.Path(data_dir)\n",
    "print(data_dir)"
   ]
  }
 ],
 "metadata": {
  "kernelspec": {
   "display_name": "Python 3.9.5 64-bit",
   "language": "python",
   "name": "python3"
  },
  "language_info": {
   "codemirror_mode": {
    "name": "ipython",
    "version": 3
   },
   "file_extension": ".py",
   "mimetype": "text/x-python",
   "name": "python",
   "nbconvert_exporter": "python",
   "pygments_lexer": "ipython3",
   "version": "3.9.5"
  },
  "orig_nbformat": 4,
  "vscode": {
   "interpreter": {
    "hash": "ebf8698cb3d1b2d30edf5d83b5f642390311515d7adb3949d805d861cebd9a90"
   }
  }
 },
 "nbformat": 4,
 "nbformat_minor": 2
}
