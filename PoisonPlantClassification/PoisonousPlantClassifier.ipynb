{
 "cells": [
  {
   "cell_type": "code",
   "execution_count": 45,
   "id": "bf5dddea-f0fa-4963-8c22-4800d67b07cb",
   "metadata": {},
   "outputs": [],
   "source": [
    "import os\n",
    "from tensorflow import keras\n",
    "from tensorflow.keras.models import Model\n",
    "from tensorflow.keras.preprocessing.image import ImageDataGenerator\n",
    "from tensorflow.keras.callbacks import ModelCheckpoint, EarlyStopping\n",
    "from tensorflow.keras.layers import Dense, Dropout, Flatten, GlobalAveragePooling2D\n",
    "\n",
    "from pathlib import Path\n",
    "import numpy as np\n",
    "import tensorflow as tf"
   ]
  },
  {
   "cell_type": "code",
   "execution_count": 46,
   "id": "fd6c3481-3110-41d7-9b3e-269546c70581",
   "metadata": {},
   "outputs": [
    {
     "name": "stdout",
     "output_type": "stream",
     "text": [
      "Found 4068 images belonging to 4 classes.\n",
      "Found 1020 images belonging to 4 classes.\n"
     ]
    }
   ],
   "source": [
    "train_dir = os.path.join('Training_Datasets', 'train')\n",
    "validation_dir = os.path.join('Training_Datasets', 'val')\n",
    "\n",
    "train_datagen = ImageDataGenerator(rescale = 1./255., rotation_range = 40, width_shift_range = 0.2, height_shift_range = 0.2, shear_range = 0.2, zoom_range = 0.2, horizontal_flip = True)\n",
    "\n",
    "test_datagen = ImageDataGenerator(rescale = 1.0/255.)\n",
    "\n",
    "train_generator = train_datagen.flow_from_directory(train_dir, batch_size = 8, class_mode = 'categorical', target_size = (224, 224))\n",
    "\n",
    "validation_generator = test_datagen.flow_from_directory( validation_dir, batch_size = 8, class_mode = 'categorical', target_size = (224, 224))\n"
   ]
  },
  {
   "cell_type": "code",
   "execution_count": 85,
   "id": "35c02659-de2c-4ba9-b445-48b1c6328743",
   "metadata": {},
   "outputs": [
    {
     "name": "stdout",
     "output_type": "stream",
     "text": [
      "Found 4068 images belonging to 4 classes.\n",
      "Class labels: {0: 'Atlantic_Poison_Oak', 1: 'Eastern_Poison_Ivy', 2: 'Not', 3: 'Poison_Sumac'}\n"
     ]
    }
   ],
   "source": [
    "# Create an instance of ImageDataGenerator\n",
    "datagen = ImageDataGenerator()\n",
    "\n",
    "# Get the class indices from the generator\n",
    "class_indices = datagen.flow_from_directory(train_dir, target_size = (224, 224), shuffle=False).class_indices\n",
    "\n",
    "# Invert the dictionary to get the class labels\n",
    "class_labels = dict((v,k) for k,v in class_indices.items())\n",
    "\n",
    "# Print the class labels\n",
    "print('Class labels:', class_labels)"
   ]
  },
  {
   "cell_type": "code",
   "execution_count": 69,
   "id": "9df041bd-d7e3-403b-b524-08cff8f53329",
   "metadata": {},
   "outputs": [],
   "source": [
    "import efficientnet.keras as efn\n",
    "from tensorflow.keras.layers import GlobalAveragePooling2D, Dropout, Dense, Input\n",
    "from tensorflow.keras import Model\n",
    "\n",
    "# Define input layer with custom name using the functional API\n",
    "inputs = Input(shape=(224, 224, 3), name='input_layer')\n",
    "x = efn.EfficientNetB0(include_top=False, weights='imagenet', classes=4)(inputs)\n",
    "\n",
    "# Define output layer\n",
    "x = GlobalAveragePooling2D()(x)\n",
    "x = Dropout(0.3)(x)\n",
    "outputs = Dense(4, activation='softmax')(x)\n",
    "\n",
    "# Combine input and output layers into a model using the functional API\n",
    "model = Model(inputs=inputs, outputs=outputs)\n",
    "\n",
    "# Compile the model\n",
    "model.compile(\n",
    "    optimizer=tf.keras.optimizers.RMSprop(learning_rate=0.0001),\n",
    "    loss='categorical_crossentropy',\n",
    "    metrics=['accuracy']\n",
    ")"
   ]
  },
  {
   "cell_type": "code",
   "execution_count": 70,
   "id": "68b899e6-143b-4d63-b588-dd8366a87e8c",
   "metadata": {},
   "outputs": [
    {
     "name": "stdout",
     "output_type": "stream",
     "text": [
      "Model: \"model_7\"\n",
      "_________________________________________________________________\n",
      " Layer (type)                Output Shape              Param #   \n",
      "=================================================================\n",
      " input_layer (InputLayer)    [(None, 224, 224, 3)]     0         \n",
      "                                                                 \n",
      " efficientnet-b0 (Functional  (None, None, None, 1280)  4049564  \n",
      " )                                                               \n",
      "                                                                 \n",
      " global_average_pooling2d_23  (None, 1280)             0         \n",
      "  (GlobalAveragePooling2D)                                       \n",
      "                                                                 \n",
      " dropout_23 (Dropout)        (None, 1280)              0         \n",
      "                                                                 \n",
      " dense_23 (Dense)            (None, 4)                 5124      \n",
      "                                                                 \n",
      "=================================================================\n",
      "Total params: 4,054,688\n",
      "Trainable params: 4,012,672\n",
      "Non-trainable params: 42,016\n",
      "_________________________________________________________________\n"
     ]
    }
   ],
   "source": [
    "model.summary()"
   ]
  },
  {
   "cell_type": "code",
   "execution_count": 49,
   "id": "9ac673f9-2118-49b6-bee6-a55578f4eaf7",
   "metadata": {},
   "outputs": [],
   "source": [
    "model.get_layer('efficientnet-b0')._name = 'efficientnetb0'"
   ]
  },
  {
   "cell_type": "code",
   "execution_count": 50,
   "id": "c7a47cc5-4bca-4352-8417-43c2ce629ad6",
   "metadata": {},
   "outputs": [
    {
     "name": "stdout",
     "output_type": "stream",
     "text": [
      "Model: \"sequential_14\"\n",
      "_________________________________________________________________\n",
      " Layer (type)                Output Shape              Param #   \n",
      "=================================================================\n",
      " efficientnetb0 (Functional)  (None, 7, 7, 1280)       4049564   \n",
      "                                                                 \n",
      " global_average_pooling2d_14  (None, 1280)             0         \n",
      "  (GlobalAveragePooling2D)                                       \n",
      "                                                                 \n",
      " dropout_14 (Dropout)        (None, 1280)              0         \n",
      "                                                                 \n",
      " dense_14 (Dense)            (None, 4)                 5124      \n",
      "                                                                 \n",
      "=================================================================\n",
      "Total params: 4,054,688\n",
      "Trainable params: 4,012,672\n",
      "Non-trainable params: 42,016\n",
      "_________________________________________________________________\n"
     ]
    }
   ],
   "source": [
    "model.summary()"
   ]
  },
  {
   "cell_type": "code",
   "execution_count": 71,
   "id": "3f78460d-4a00-4cc7-a0e1-473100da5009",
   "metadata": {},
   "outputs": [
    {
     "name": "stdout",
     "output_type": "stream",
     "text": [
      "Epoch 1/7\n",
      "509/509 [==============================] - 185s 339ms/step - loss: 0.8232 - accuracy: 0.6576 - val_loss: 0.5625 - val_accuracy: 0.7863\n",
      "Epoch 2/7\n",
      "509/509 [==============================] - 171s 336ms/step - loss: 0.5244 - accuracy: 0.8009 - val_loss: 0.3842 - val_accuracy: 0.8490\n",
      "Epoch 3/7\n",
      "509/509 [==============================] - 173s 340ms/step - loss: 0.4202 - accuracy: 0.8427 - val_loss: 0.3573 - val_accuracy: 0.8598\n",
      "Epoch 4/7\n",
      "509/509 [==============================] - 174s 341ms/step - loss: 0.3614 - accuracy: 0.8687 - val_loss: 0.3224 - val_accuracy: 0.8843\n",
      "Epoch 5/7\n",
      "509/509 [==============================] - 177s 347ms/step - loss: 0.3091 - accuracy: 0.8847 - val_loss: 0.3885 - val_accuracy: 0.8745\n",
      "Epoch 6/7\n",
      "509/509 [==============================] - 181s 356ms/step - loss: 0.3150 - accuracy: 0.8788 - val_loss: 0.2809 - val_accuracy: 0.9078\n",
      "Epoch 7/7\n",
      "509/509 [==============================] - 180s 354ms/step - loss: 0.2620 - accuracy: 0.9034 - val_loss: 0.3024 - val_accuracy: 0.9000\n"
     ]
    }
   ],
   "source": [
    "num_epochs = 7\n",
    "eff_history = model.fit(train_generator, validation_data = validation_generator, epochs = num_epochs)"
   ]
  },
  {
   "cell_type": "code",
   "execution_count": 72,
   "id": "d7d0b0b5-0f99-4add-8e88-1da3563403d0",
   "metadata": {},
   "outputs": [
    {
     "data": {
      "image/png": "[encoded data removed]",
      "text/plain": [
       "<Figure size 576x576 with 2 Axes>"
      ]
     },
     "metadata": {
      "needs_background": "light"
     },
     "output_type": "display_data"
    }
   ],
   "source": [
    "import matplotlib.pyplot as plt\n",
    "acc = eff_history.history['accuracy'] \n",
    "val_acc = eff_history.history['val_accuracy']\n",
    "\n",
    "loss = eff_history.history['loss'] \n",
    "val_loss = eff_history.history['val_loss']\n",
    "\n",
    "epochs_range = range(7)\n",
    "\n",
    "plt.figure(figsize=(8, 8)) \n",
    "plt.subplot(1, 2, 1) \n",
    "plt.plot(epochs_range, acc, label='Training Accuracy') \n",
    "plt.plot(epochs_range, val_acc, label='Validation Accuracy') \n",
    "plt.legend(loc='lower right') \n",
    "plt.title('Training and Validation Accuracy')\n",
    "\n",
    "plt.subplot(1, 2, 2) \n",
    "plt.plot(epochs_range, loss, label='Training Loss') \n",
    "plt.plot(epochs_range, val_loss, label='Validation Loss') \n",
    "plt.legend(loc='upper right') \n",
    "plt.title('Training and Validation Loss') \n",
    "plt.show()"
   ]
  },
  {
   "cell_type": "code",
   "execution_count": 73,
   "id": "bc881abf-bbdf-42f3-9c80-9b5861e6c5aa",
   "metadata": {},
   "outputs": [
    {
     "name": "stderr",
     "output_type": "stream",
     "text": [
      "WARNING:absl:Found untraced functions such as _update_step_xla, _jit_compiled_convolution_op, _jit_compiled_convolution_op, _jit_compiled_convolution_op, _jit_compiled_convolution_op while saving (showing 5 of 82). These functions will not be directly callable after loading.\n"
     ]
    },
    {
     "name": "stdout",
     "output_type": "stream",
     "text": [
      "INFO:tensorflow:Assets written to: poisonous_plant_classifier_model/assets\n"
     ]
    },
    {
     "name": "stderr",
     "output_type": "stream",
     "text": [
      "INFO:tensorflow:Assets written to: poisonous_plant_classifier_model/assets\n"
     ]
    }
   ],
   "source": [
    "model.save(\"poisonous_plant_classifier_model\")"
   ]
  },
  {
   "cell_type": "code",
   "execution_count": 84,
   "id": "bb8f3d84-0f27-4ea6-ac92-7f3b443b4e33",
   "metadata": {},
   "outputs": [
    {
     "name": "stdout",
     "output_type": "stream",
     "text": [
      "['Atlantic_Poison_Oak', 'Eastern_Poison_Ivy', 'Not', 'Poison_Sumac']\n"
     ]
    }
   ],
   "source": [
    "class_names_train = list(train_generator.class_indices.keys())\n",
    "\n",
    "print(class_names_train)"
   ]
  },
  {
   "cell_type": "code",
   "execution_count": null,
   "id": "52d503f8-a832-4e84-94a5-ba19d8c081d0",
   "metadata": {},
   "outputs": [],
   "source": []
  }
 ],
 "metadata": {
  "kernelspec": {
   "display_name": "Python 3",
   "language": "python",
   "name": "python3"
  },
  "language_info": {
   "codemirror_mode": {
    "name": "ipython",
    "version": 3
   },
   "file_extension": ".py",
   "mimetype": "text/x-python",
   "name": "python",
   "nbconvert_exporter": "python",
   "pygments_lexer": "ipython3",
   "version": "3.9.16"
  }
 },
 "nbformat": 4,
 "nbformat_minor": 5
}
