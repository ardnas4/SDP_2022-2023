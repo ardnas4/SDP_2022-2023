{
  "cells": [
    {
      "cell_type": "code",
      "execution_count": 1,
      "metadata": {
        "id": "EINB9fhdWmxI"
      },
      "outputs": [],
      "source": [
        "import os\n",
        "from tensorflow import keras\n",
        "from keras.models import Model\n",
        "from keras.preprocessing.image import ImageDataGenerator\n",
        "from keras.callbacks import ModelCheckpoint, EarlyStopping\n",
        "from keras.layers import Dense, Dropout, Flatten\n",
        "from pathlib import Path\n",
        "import numpy as np\n",
        "import tensorflow as tf\n",
        "from keras.applications import ResNet50"
      ]
    },
    {
      "cell_type": "code",
      "execution_count": 2,
      "metadata": {
        "colab": {
          "base_uri": "https://localhost:8080/"
        },
        "id": "5Cl-Wwt6br0b",
        "outputId": "4d2aff28-bcf7-4a94-a051-b873b7ec211e"
      },
      "outputs": [
        {
          "output_type": "stream",
          "name": "stdout",
          "text": [
            "Mounted at /content/drive\n"
          ]
        }
      ],
      "source": [
        "# on Google Colab, get the dataset from drive\n",
        "from google.colab import drive\n",
        "drive.mount('/content/drive')"
      ]
    },
    {
      "cell_type": "code",
      "execution_count": 3,
      "metadata": {
        "colab": {
          "base_uri": "https://localhost:8080/"
        },
        "id": "PvtNhK3nbwde",
        "outputId": "8b3cacd9-425f-443f-ab5a-873402915fe6"
      },
      "outputs": [
        {
          "output_type": "stream",
          "name": "stdout",
          "text": [
            "Done\n"
          ]
        }
      ],
      "source": [
        "# unzip the dataset for use\n",
        "from zipfile import ZipFile\n",
        "file_name = '/content/drive/MyDrive/Poison Plant Classifier/Dataset.zip'\n",
        "\n",
        "with ZipFile(file_name, 'r') as zip:\n",
        "  zip.extractall()\n",
        "  print('Done')"
      ]
    },
    {
      "cell_type": "code",
      "execution_count": 4,
      "metadata": {
        "colab": {
          "base_uri": "https://localhost:8080/"
        },
        "id": "ax0BW0qObDSK",
        "outputId": "e688c158-88af-4517-b2b0-55ea214f61c6"
      },
      "outputs": [
        {
          "output_type": "stream",
          "name": "stdout",
          "text": [
            "Looking in indexes: https://pypi.org/simple, https://us-python.pkg.dev/colab-wheels/public/simple/\n",
            "Collecting split-folders\n",
            "  Downloading split_folders-0.5.1-py3-none-any.whl (8.4 kB)\n",
            "Installing collected packages: split-folders\n",
            "Successfully installed split-folders-0.5.1\n"
          ]
        }
      ],
      "source": [
        "!pip install split-folders"
      ]
    },
    {
      "cell_type": "code",
      "execution_count": 5,
      "metadata": {
        "colab": {
          "base_uri": "https://localhost:8080/"
        },
        "id": "b-rZOpkgbMMF",
        "outputId": "011fa749-2ca5-4e5f-f53e-ad411f5e73dc"
      },
      "outputs": [
        {
          "output_type": "stream",
          "name": "stderr",
          "text": [
            "Copying files: 10610 files [00:04, 2311.41 files/s]\n"
          ]
        }
      ],
      "source": [
        "import splitfolders\n",
        "\n",
        "splitfolders.ratio(\"Dataset\", # The location of dataset\n",
        "                   output=\"Training_Datasets\", # The output location\n",
        "                   seed=42, # The number of seed\n",
        "                   ratio=(.8, .2), # The ratio of splited dataset\n",
        "                   group_prefix=None, # If your dataset contains more than one file like \".jpg\", \".pdf\", etc\n",
        "                   move=False # If you choose to move, turn this into True\n",
        "                   )"
      ]
    },
    {
      "cell_type": "code",
      "execution_count": 32,
      "metadata": {
        "colab": {
          "base_uri": "https://localhost:8080/"
        },
        "id": "xV-Q4d1H46k0",
        "outputId": "fe516a0b-9a79-4cfd-d379-5e5b6920b7ba"
      },
      "outputs": [
        {
          "output_type": "stream",
          "name": "stdout",
          "text": [
            "Found 8486 images belonging to 4 classes.\n",
            "Found 2124 images belonging to 4 classes.\n"
          ]
        }
      ],
      "source": [
        "train_dir = os.path.join('/content/Training_Datasets', 'train')\n",
        "validation_dir = os.path.join('/content/Training_Datasets', 'val')\n",
        "\n",
        "train_datagen = ImageDataGenerator(rescale = 1./255., rotation_range = 40, width_shift_range = 0.2, height_shift_range = 0.2, shear_range = 0.2, zoom_range = 0.2, horizontal_flip = True)\n",
        "\n",
        "test_datagen = ImageDataGenerator(rescale = 1.0/255.)\n",
        "\n",
        "train_generator = train_datagen.flow_from_directory(train_dir, batch_size = 20, class_mode = 'sparse', target_size = (224, 224))\n",
        "\n",
        "validation_generator = test_datagen.flow_from_directory( validation_dir, batch_size = 20, class_mode = 'sparse', target_size = (224, 224))"
      ]
    },
    {
      "cell_type": "code",
      "execution_count": 33,
      "metadata": {
        "id": "TOs1tXd8Wm9M"
      },
      "outputs": [],
      "source": [
        "base_model = keras.Sequential()\n",
        "base_model.add(ResNet50(include_top=False, weights='imagenet', pooling='max'))\n",
        "base_model.add(Dense(4, activation='softmax'))\n",
        "\n",
        "base_model.compile(optimizer = tf.keras.optimizers.SGD(learning_rate=0.0001), loss = 'sparse_categorical_crossentropy', metrics = ['accuracy'])"
      ]
    },
    {
      "cell_type": "code",
      "execution_count": 34,
      "metadata": {
        "colab": {
          "base_uri": "https://localhost:8080/"
        },
        "id": "AaOYZlWp-goZ",
        "outputId": "327c1436-281e-4508-850b-994a4dbd55e7"
      },
      "outputs": [
        {
          "output_type": "stream",
          "name": "stdout",
          "text": [
            "Epoch 1/50\n",
            "425/425 [==============================] - 166s 378ms/step - loss: 3.4360 - accuracy: 0.4311 - val_loss: 6.9830 - val_accuracy: 0.2538\n",
            "Epoch 2/50\n",
            "425/425 [==============================] - 158s 371ms/step - loss: 2.3377 - accuracy: 0.5434 - val_loss: 2.6939 - val_accuracy: 0.4195\n",
            "Epoch 3/50\n",
            "425/425 [==============================] - 156s 367ms/step - loss: 2.0367 - accuracy: 0.5746 - val_loss: 1.9032 - val_accuracy: 0.6163\n",
            "Epoch 4/50\n",
            "425/425 [==============================] - 157s 368ms/step - loss: 1.7978 - accuracy: 0.5944 - val_loss: 1.6210 - val_accuracy: 0.6314\n",
            "Epoch 5/50\n",
            "425/425 [==============================] - 155s 364ms/step - loss: 1.5206 - accuracy: 0.6056 - val_loss: 1.3147 - val_accuracy: 0.6544\n",
            "Epoch 6/50\n",
            "425/425 [==============================] - 157s 370ms/step - loss: 1.3463 - accuracy: 0.6128 - val_loss: 1.3716 - val_accuracy: 0.6412\n",
            "Epoch 7/50\n",
            "425/425 [==============================] - 156s 367ms/step - loss: 1.2136 - accuracy: 0.6334 - val_loss: 1.1036 - val_accuracy: 0.6789\n",
            "Epoch 8/50\n",
            "425/425 [==============================] - 156s 366ms/step - loss: 1.1507 - accuracy: 0.6400 - val_loss: 1.3596 - val_accuracy: 0.6700\n",
            "Epoch 9/50\n",
            "425/425 [==============================] - 156s 368ms/step - loss: 1.0653 - accuracy: 0.6584 - val_loss: 1.0374 - val_accuracy: 0.6869\n",
            "Epoch 10/50\n",
            "425/425 [==============================] - 156s 367ms/step - loss: 1.0147 - accuracy: 0.6654 - val_loss: 0.9404 - val_accuracy: 0.6996\n",
            "Epoch 11/50\n",
            "425/425 [==============================] - 156s 367ms/step - loss: 0.9627 - accuracy: 0.6766 - val_loss: 1.0934 - val_accuracy: 0.6879\n",
            "Epoch 12/50\n",
            "425/425 [==============================] - 156s 366ms/step - loss: 0.9354 - accuracy: 0.6764 - val_loss: 1.1806 - val_accuracy: 0.6907\n",
            "Epoch 13/50\n",
            "425/425 [==============================] - 156s 366ms/step - loss: 0.9090 - accuracy: 0.6900 - val_loss: 0.9933 - val_accuracy: 0.7010\n",
            "Epoch 14/50\n",
            "425/425 [==============================] - 155s 365ms/step - loss: 0.8831 - accuracy: 0.6966 - val_loss: 0.8980 - val_accuracy: 0.7199\n",
            "Epoch 15/50\n",
            "425/425 [==============================] - 155s 365ms/step - loss: 0.8533 - accuracy: 0.7007 - val_loss: 0.8673 - val_accuracy: 0.7180\n",
            "Epoch 16/50\n",
            "425/425 [==============================] - 154s 362ms/step - loss: 0.8243 - accuracy: 0.7050 - val_loss: 0.9034 - val_accuracy: 0.7185\n",
            "Epoch 17/50\n",
            "425/425 [==============================] - 155s 364ms/step - loss: 0.8129 - accuracy: 0.7046 - val_loss: 0.8084 - val_accuracy: 0.7340\n",
            "Epoch 18/50\n",
            "425/425 [==============================] - 155s 364ms/step - loss: 0.7804 - accuracy: 0.7133 - val_loss: 0.7927 - val_accuracy: 0.7279\n",
            "Epoch 19/50\n",
            "425/425 [==============================] - 154s 361ms/step - loss: 0.7553 - accuracy: 0.7263 - val_loss: 0.8026 - val_accuracy: 0.7283\n",
            "Epoch 20/50\n",
            "425/425 [==============================] - 154s 362ms/step - loss: 0.7623 - accuracy: 0.7185 - val_loss: 0.8028 - val_accuracy: 0.7312\n",
            "Epoch 21/50\n",
            "425/425 [==============================] - 154s 362ms/step - loss: 0.7479 - accuracy: 0.7268 - val_loss: 0.7516 - val_accuracy: 0.7429\n",
            "Epoch 22/50\n",
            "425/425 [==============================] - 154s 362ms/step - loss: 0.7243 - accuracy: 0.7318 - val_loss: 0.7296 - val_accuracy: 0.7505\n",
            "Epoch 23/50\n",
            "425/425 [==============================] - 155s 363ms/step - loss: 0.7072 - accuracy: 0.7376 - val_loss: 0.7575 - val_accuracy: 0.7453\n",
            "Epoch 24/50\n",
            "425/425 [==============================] - 154s 362ms/step - loss: 0.7041 - accuracy: 0.7386 - val_loss: 0.7449 - val_accuracy: 0.7425\n",
            "Epoch 25/50\n",
            "425/425 [==============================] - 154s 362ms/step - loss: 0.6826 - accuracy: 0.7438 - val_loss: 0.7923 - val_accuracy: 0.7406\n",
            "Epoch 26/50\n",
            "425/425 [==============================] - 154s 362ms/step - loss: 0.6785 - accuracy: 0.7478 - val_loss: 0.7678 - val_accuracy: 0.7425\n",
            "Epoch 27/50\n",
            "425/425 [==============================] - 155s 364ms/step - loss: 0.6727 - accuracy: 0.7481 - val_loss: 0.7393 - val_accuracy: 0.7462\n",
            "Epoch 28/50\n",
            "425/425 [==============================] - 154s 361ms/step - loss: 0.6656 - accuracy: 0.7519 - val_loss: 0.7319 - val_accuracy: 0.7500\n",
            "Epoch 29/50\n",
            "425/425 [==============================] - 154s 361ms/step - loss: 0.6364 - accuracy: 0.7602 - val_loss: 0.7734 - val_accuracy: 0.7467\n",
            "Epoch 30/50\n",
            "425/425 [==============================] - 154s 362ms/step - loss: 0.6512 - accuracy: 0.7555 - val_loss: 0.7062 - val_accuracy: 0.7552\n",
            "Epoch 31/50\n",
            "425/425 [==============================] - 154s 363ms/step - loss: 0.6171 - accuracy: 0.7630 - val_loss: 0.7263 - val_accuracy: 0.7589\n",
            "Epoch 32/50\n",
            "425/425 [==============================] - 154s 362ms/step - loss: 0.6104 - accuracy: 0.7657 - val_loss: 0.7078 - val_accuracy: 0.7599\n",
            "Epoch 33/50\n",
            "425/425 [==============================] - 155s 364ms/step - loss: 0.6110 - accuracy: 0.7669 - val_loss: 0.6976 - val_accuracy: 0.7585\n",
            "Epoch 34/50\n",
            "425/425 [==============================] - 154s 362ms/step - loss: 0.6129 - accuracy: 0.7704 - val_loss: 0.6924 - val_accuracy: 0.7594\n",
            "Epoch 35/50\n",
            "425/425 [==============================] - 154s 363ms/step - loss: 0.6059 - accuracy: 0.7719 - val_loss: 0.6885 - val_accuracy: 0.7688\n",
            "Epoch 36/50\n",
            "425/425 [==============================] - 154s 361ms/step - loss: 0.5977 - accuracy: 0.7757 - val_loss: 0.8115 - val_accuracy: 0.7486\n",
            "Epoch 37/50\n",
            "425/425 [==============================] - 154s 361ms/step - loss: 0.5777 - accuracy: 0.7779 - val_loss: 0.7011 - val_accuracy: 0.7707\n",
            "Epoch 38/50\n",
            "425/425 [==============================] - 154s 362ms/step - loss: 0.5738 - accuracy: 0.7834 - val_loss: 0.6700 - val_accuracy: 0.7731\n",
            "Epoch 39/50\n",
            "425/425 [==============================] - 154s 362ms/step - loss: 0.5768 - accuracy: 0.7818 - val_loss: 0.6691 - val_accuracy: 0.7792\n",
            "Epoch 40/50\n",
            "425/425 [==============================] - 154s 362ms/step - loss: 0.5748 - accuracy: 0.7813 - val_loss: 0.6752 - val_accuracy: 0.7698\n",
            "Epoch 41/50\n",
            "425/425 [==============================] - 163s 384ms/step - loss: 0.5599 - accuracy: 0.7865 - val_loss: 0.6643 - val_accuracy: 0.7735\n",
            "Epoch 42/50\n",
            "425/425 [==============================] - 154s 361ms/step - loss: 0.5633 - accuracy: 0.7874 - val_loss: 0.6655 - val_accuracy: 0.7768\n",
            "Epoch 43/50\n",
            "425/425 [==============================] - 154s 361ms/step - loss: 0.5392 - accuracy: 0.7992 - val_loss: 0.6675 - val_accuracy: 0.7750\n",
            "Epoch 44/50\n",
            "425/425 [==============================] - 154s 362ms/step - loss: 0.5530 - accuracy: 0.7906 - val_loss: 0.7115 - val_accuracy: 0.7735\n",
            "Epoch 45/50\n",
            "425/425 [==============================] - 154s 363ms/step - loss: 0.5438 - accuracy: 0.7875 - val_loss: 0.6550 - val_accuracy: 0.7768\n",
            "Epoch 46/50\n",
            "425/425 [==============================] - 155s 364ms/step - loss: 0.5319 - accuracy: 0.7990 - val_loss: 0.6858 - val_accuracy: 0.7684\n",
            "Epoch 47/50\n",
            "425/425 [==============================] - 155s 365ms/step - loss: 0.5345 - accuracy: 0.7946 - val_loss: 0.6678 - val_accuracy: 0.7792\n",
            "Epoch 48/50\n",
            "425/425 [==============================] - 154s 363ms/step - loss: 0.5233 - accuracy: 0.7985 - val_loss: 0.6970 - val_accuracy: 0.7735\n",
            "Epoch 49/50\n",
            "425/425 [==============================] - 154s 362ms/step - loss: 0.5187 - accuracy: 0.8025 - val_loss: 0.6608 - val_accuracy: 0.7858\n",
            "Epoch 50/50\n",
            "425/425 [==============================] - 155s 363ms/step - loss: 0.5276 - accuracy: 0.8003 - val_loss: 0.6711 - val_accuracy: 0.7797\n"
          ]
        }
      ],
      "source": [
        "num_epochs = 50\n",
        "resnet_history = base_model.fit(train_generator, validation_data = validation_generator, epochs = num_epochs)"
      ]
    },
    {
      "cell_type": "code",
      "execution_count": 35,
      "metadata": {
        "id": "I_iOdebiiKdZ",
        "colab": {
          "base_uri": "https://localhost:8080/",
          "height": 499
        },
        "outputId": "caa3c08e-cbd8-4328-a7a1-7dd8581832d1"
      },
      "outputs": [
        {
          "output_type": "display_data",
          "data": {
            "text/plain": [
              "<Figure size 576x576 with 2 Axes>"
            ],
            "image/png": "[encoded data removed]"
          },
          "metadata": {
            "needs_background": "light"
          }
        }
      ],
      "source": [
        "import matplotlib.pyplot as plt\n",
        "\n",
        "acc = resnet_history.history['accuracy']\n",
        "val_acc = resnet_history.history['val_accuracy']\n",
        "\n",
        "loss = resnet_history.history['loss']\n",
        "val_loss = resnet_history.history['val_loss']\n",
        "\n",
        "epochs_range = range(num_epochs)\n",
        "\n",
        "plt.figure(figsize=(8, 8))\n",
        "plt.subplot(1, 2, 1)\n",
        "plt.plot(epochs_range, acc, label='Training Accuracy')\n",
        "plt.plot(epochs_range, val_acc, label='Validation Accuracy')\n",
        "plt.legend(loc='lower right')\n",
        "plt.title('Training and Validation Accuracy')\n",
        "\n",
        "plt.subplot(1, 2, 2)\n",
        "plt.plot(epochs_range, loss, label='Training Loss')\n",
        "plt.plot(epochs_range, val_loss, label='Validation Loss')\n",
        "plt.legend(loc='upper right')\n",
        "plt.title('Training and Validation Loss')\n",
        "plt.show()"
      ]
    }
  ],
  "metadata": {
    "accelerator": "GPU",
    "colab": {
      "provenance": []
    },
    "gpuClass": "standard",
    "kernelspec": {
      "display_name": "Python 3",
      "name": "python3"
    },
    "language_info": {
      "name": "python"
    }
  },
  "nbformat": 4,
  "nbformat_minor": 0
}