{
  "cells": [
    {
      "cell_type": "code",
      "execution_count": 1,
      "metadata": {
        "id": "EINB9fhdWmxI"
      },
      "outputs": [],
      "source": [
        "import os\n",
        "from tensorflow import keras\n",
        "from keras.models import Model\n",
        "from keras.preprocessing.image import ImageDataGenerator\n",
        "from keras.callbacks import ModelCheckpoint, EarlyStopping\n",
        "from keras.layers import Dense, Dropout, Flatten\n",
        "from pathlib import Path\n",
        "import numpy as np\n",
        "import tensorflow as tf\n",
        "from keras.applications import ResNet50"
      ]
    },
    {
      "cell_type": "code",
      "execution_count": 2,
      "metadata": {
        "colab": {
          "base_uri": "https://localhost:8080/"
        },
        "id": "5Cl-Wwt6br0b",
        "outputId": "f4d3c60e-04d7-4816-d6de-7d3ace1f75f9"
      },
      "outputs": [
        {
          "output_type": "stream",
          "name": "stdout",
          "text": [
            "Mounted at /content/drive\n"
          ]
        }
      ],
      "source": [
        "# on Google Colab, get the dataset from drive\n",
        "from google.colab import drive\n",
        "drive.mount('/content/drive')"
      ]
    },
    {
      "cell_type": "code",
      "execution_count": 3,
      "metadata": {
        "colab": {
          "base_uri": "https://localhost:8080/"
        },
        "id": "PvtNhK3nbwde",
        "outputId": "a4123408-1d43-4fbc-9c72-74c7e4a6bb7e"
      },
      "outputs": [
        {
          "output_type": "stream",
          "name": "stdout",
          "text": [
            "Done\n"
          ]
        }
      ],
      "source": [
        "# unzip the dataset for use\n",
        "from zipfile import ZipFile\n",
        "file_name = '/content/drive/MyDrive/Poison Plant Classifier/Dataset.zip'\n",
        "\n",
        "with ZipFile(file_name, 'r') as zip:\n",
        "  zip.extractall()\n",
        "  print('Done')"
      ]
    },
    {
      "cell_type": "code",
      "execution_count": 4,
      "metadata": {
        "colab": {
          "base_uri": "https://localhost:8080/"
        },
        "id": "ax0BW0qObDSK",
        "outputId": "46cf6898-06b8-4d69-896d-7210ba6c359f"
      },
      "outputs": [
        {
          "output_type": "stream",
          "name": "stdout",
          "text": [
            "Looking in indexes: https://pypi.org/simple, https://us-python.pkg.dev/colab-wheels/public/simple/\n",
            "Collecting split-folders\n",
            "  Downloading split_folders-0.5.1-py3-none-any.whl (8.4 kB)\n",
            "Installing collected packages: split-folders\n",
            "Successfully installed split-folders-0.5.1\n"
          ]
        }
      ],
      "source": [
        "!pip install split-folders"
      ]
    },
    {
      "cell_type": "code",
      "execution_count": 5,
      "metadata": {
        "colab": {
          "base_uri": "https://localhost:8080/"
        },
        "id": "b-rZOpkgbMMF",
        "outputId": "24a130ad-19f5-4728-824c-5947097f229d"
      },
      "outputs": [
        {
          "output_type": "stream",
          "name": "stderr",
          "text": [
            "Copying files: 10610 files [00:04, 2282.39 files/s]\n"
          ]
        }
      ],
      "source": [
        "import splitfolders\n",
        "\n",
        "splitfolders.ratio(\"Dataset\", # The location of dataset\n",
        "                   output=\"Training_Datasets\", # The output location\n",
        "                   seed=42, # The number of seed\n",
        "                   ratio=(.8, .2), # The ratio of splited dataset\n",
        "                   group_prefix=None, # If your dataset contains more than one file like \".jpg\", \".pdf\", etc\n",
        "                   move=False # If you choose to move, turn this into True\n",
        "                   )"
      ]
    },
    {
      "cell_type": "code",
      "execution_count": 6,
      "metadata": {
        "colab": {
          "base_uri": "https://localhost:8080/"
        },
        "id": "xV-Q4d1H46k0",
        "outputId": "3622370d-6051-41cc-d737-319c9a4d7410"
      },
      "outputs": [
        {
          "output_type": "stream",
          "name": "stdout",
          "text": [
            "Found 8486 files belonging to 4 classes.\n",
            "Found 2124 files belonging to 4 classes.\n"
          ]
        }
      ],
      "source": [
        "train_dir = os.path.join('/content/Training_Datasets', 'train')\n",
        "validation_dir = os.path.join('/content/Training_Datasets', 'val')\n",
        "\n",
        "train_dataset = tf.keras.utils.image_dataset_from_directory(train_dir,\n",
        "                                                            shuffle=True,\n",
        "                                                            label_mode='int',\n",
        "                                                            batch_size=64,\n",
        "                                                            image_size=(224, 224))\n",
        "\n",
        "validation_dataset = tf.keras.utils.image_dataset_from_directory(validation_dir,\n",
        "                                                                 shuffle=True,\n",
        "                                                                 label_mode='int',\n",
        "                                                                 batch_size=64,\n",
        "                                                                 image_size=(224, 224))"
      ]
    },
    {
      "cell_type": "code",
      "execution_count": 7,
      "metadata": {
        "id": "TOs1tXd8Wm9M",
        "colab": {
          "base_uri": "https://localhost:8080/"
        },
        "outputId": "95dbe04e-8966-46a2-b815-d965676e5697"
      },
      "outputs": [
        {
          "output_type": "stream",
          "name": "stdout",
          "text": [
            "Downloading data from https://storage.googleapis.com/tensorflow/keras-applications/resnet/resnet50_weights_tf_dim_ordering_tf_kernels_notop.h5\n",
            "94765736/94765736 [==============================] - 1s 0us/step\n"
          ]
        }
      ],
      "source": [
        "base_model = keras.Sequential()\n",
        "base_model.add(ResNet50(include_top=False, weights='imagenet', pooling='max'))\n",
        "base_model.add(Dropout(0.2))\n",
        "base_model.add(Dense(4, activation='softmax'))\n",
        "\n",
        "base_model.compile(optimizer = tf.keras.optimizers.SGD(learning_rate=0.0001), loss = 'sparse_categorical_crossentropy', metrics = ['accuracy'])"
      ]
    },
    {
      "cell_type": "code",
      "execution_count": 8,
      "metadata": {
        "colab": {
          "base_uri": "https://localhost:8080/"
        },
        "id": "AaOYZlWp-goZ",
        "outputId": "4d58d7e0-66a1-45a3-94aa-aa9170922d3a"
      },
      "outputs": [
        {
          "output_type": "stream",
          "name": "stdout",
          "text": [
            "Epoch 1/20\n",
            "133/133 [==============================] - 115s 715ms/step - loss: 5.3325 - accuracy: 0.3500 - val_loss: 3.0429 - val_accuracy: 0.4435\n",
            "Epoch 2/20\n",
            "133/133 [==============================] - 94s 699ms/step - loss: 3.4347 - accuracy: 0.4694 - val_loss: 2.4192 - val_accuracy: 0.5315\n",
            "Epoch 3/20\n",
            "133/133 [==============================] - 94s 697ms/step - loss: 2.5523 - accuracy: 0.5262 - val_loss: 2.1041 - val_accuracy: 0.5678\n",
            "Epoch 4/20\n",
            "133/133 [==============================] - 93s 696ms/step - loss: 2.0377 - accuracy: 0.5539 - val_loss: 1.7860 - val_accuracy: 0.5913\n",
            "Epoch 5/20\n",
            "133/133 [==============================] - 94s 696ms/step - loss: 1.7405 - accuracy: 0.5793 - val_loss: 1.5452 - val_accuracy: 0.6073\n",
            "Epoch 6/20\n",
            "133/133 [==============================] - 94s 696ms/step - loss: 1.5312 - accuracy: 0.6042 - val_loss: 1.4871 - val_accuracy: 0.6106\n",
            "Epoch 7/20\n",
            "133/133 [==============================] - 95s 705ms/step - loss: 1.3923 - accuracy: 0.6342 - val_loss: 1.4558 - val_accuracy: 0.6196\n",
            "Epoch 8/20\n",
            "133/133 [==============================] - 94s 698ms/step - loss: 1.3113 - accuracy: 0.6421 - val_loss: 1.3279 - val_accuracy: 0.6281\n",
            "Epoch 9/20\n",
            "133/133 [==============================] - 93s 696ms/step - loss: 1.1684 - accuracy: 0.6693 - val_loss: 1.2809 - val_accuracy: 0.6431\n",
            "Epoch 10/20\n",
            "133/133 [==============================] - 95s 698ms/step - loss: 1.0724 - accuracy: 0.6849 - val_loss: 1.1699 - val_accuracy: 0.6610\n",
            "Epoch 11/20\n",
            "133/133 [==============================] - 93s 696ms/step - loss: 1.0129 - accuracy: 0.6990 - val_loss: 1.2031 - val_accuracy: 0.6591\n",
            "Epoch 12/20\n",
            "133/133 [==============================] - 94s 698ms/step - loss: 0.9765 - accuracy: 0.7072 - val_loss: 1.1307 - val_accuracy: 0.6653\n",
            "Epoch 13/20\n",
            "133/133 [==============================] - 94s 696ms/step - loss: 0.9061 - accuracy: 0.7259 - val_loss: 1.0964 - val_accuracy: 0.6714\n",
            "Epoch 14/20\n",
            "133/133 [==============================] - 93s 695ms/step - loss: 0.8550 - accuracy: 0.7379 - val_loss: 1.0923 - val_accuracy: 0.6855\n",
            "Epoch 15/20\n",
            "133/133 [==============================] - 93s 695ms/step - loss: 0.8137 - accuracy: 0.7450 - val_loss: 1.0421 - val_accuracy: 0.6911\n",
            "Epoch 16/20\n",
            "133/133 [==============================] - 93s 694ms/step - loss: 0.7273 - accuracy: 0.7580 - val_loss: 1.0688 - val_accuracy: 0.6869\n",
            "Epoch 17/20\n",
            "133/133 [==============================] - 93s 695ms/step - loss: 0.6913 - accuracy: 0.7754 - val_loss: 1.0340 - val_accuracy: 0.6977\n",
            "Epoch 18/20\n",
            "133/133 [==============================] - 93s 695ms/step - loss: 0.6856 - accuracy: 0.7812 - val_loss: 1.0412 - val_accuracy: 0.7034\n",
            "Epoch 19/20\n",
            "133/133 [==============================] - 93s 695ms/step - loss: 0.6525 - accuracy: 0.7787 - val_loss: 1.0496 - val_accuracy: 0.7076\n",
            "Epoch 20/20\n",
            "133/133 [==============================] - 93s 695ms/step - loss: 0.5922 - accuracy: 0.8005 - val_loss: 0.9968 - val_accuracy: 0.7067\n"
          ]
        }
      ],
      "source": [
        "resnet_history = base_model.fit(train_dataset, validation_data = validation_dataset, epochs = 20)"
      ]
    },
    {
      "cell_type": "code",
      "execution_count": 9,
      "metadata": {
        "id": "I_iOdebiiKdZ",
        "colab": {
          "base_uri": "https://localhost:8080/",
          "height": 499
        },
        "outputId": "d0e43ff4-25e5-49d5-a25c-0665fab77113"
      },
      "outputs": [
        {
          "output_type": "display_data",
          "data": {
            "text/plain": [
              "<Figure size 576x576 with 2 Axes>"
            ],
            "image/png": "[encoded data removed]"
          },
          "metadata": {
            "needs_background": "light"
          }
        }
      ],
      "source": [
        "import matplotlib.pyplot as plt\n",
        "\n",
        "acc = resnet_history.history['accuracy']\n",
        "val_acc = resnet_history.history['val_accuracy']\n",
        "\n",
        "loss = resnet_history.history['loss']\n",
        "val_loss = resnet_history.history['val_loss']\n",
        "\n",
        "epochs_range = range(20)\n",
        "\n",
        "plt.figure(figsize=(8, 8))\n",
        "plt.subplot(1, 2, 1)\n",
        "plt.plot(epochs_range, acc, label='Training Accuracy')\n",
        "plt.plot(epochs_range, val_acc, label='Validation Accuracy')\n",
        "plt.legend(loc='lower right')\n",
        "plt.title('Training and Validation Accuracy')\n",
        "\n",
        "plt.subplot(1, 2, 2)\n",
        "plt.plot(epochs_range, loss, label='Training Loss')\n",
        "plt.plot(epochs_range, val_loss, label='Validation Loss')\n",
        "plt.legend(loc='upper right')\n",
        "plt.title('Training and Validation Loss')\n",
        "plt.show()"
      ]
    },
    {
      "cell_type": "code",
      "source": [
        "resnet_history = base_model.fit(train_dataset, validation_data = validation_dataset, epochs = 10)"
      ],
      "metadata": {
        "colab": {
          "base_uri": "https://localhost:8080/"
        },
        "id": "X7NYZ6TT_otS",
        "outputId": "01fcaa14-7699-43ea-8af5-30792984a562"
      },
      "execution_count": 10,
      "outputs": [
        {
          "output_type": "stream",
          "name": "stdout",
          "text": [
            "Epoch 1/10\n",
            "133/133 [==============================] - 95s 701ms/step - loss: 0.5843 - accuracy: 0.8057 - val_loss: 1.0028 - val_accuracy: 0.7076\n",
            "Epoch 2/10\n",
            "133/133 [==============================] - 94s 697ms/step - loss: 0.5531 - accuracy: 0.8126 - val_loss: 0.9921 - val_accuracy: 0.7128\n",
            "Epoch 3/10\n",
            "133/133 [==============================] - 94s 698ms/step - loss: 0.5113 - accuracy: 0.8258 - val_loss: 0.9788 - val_accuracy: 0.7123\n",
            "Epoch 4/10\n",
            "133/133 [==============================] - 94s 696ms/step - loss: 0.4924 - accuracy: 0.8295 - val_loss: 0.9643 - val_accuracy: 0.7189\n",
            "Epoch 5/10\n",
            "133/133 [==============================] - 94s 698ms/step - loss: 0.4580 - accuracy: 0.8417 - val_loss: 0.9625 - val_accuracy: 0.7194\n",
            "Epoch 6/10\n",
            "133/133 [==============================] - 94s 697ms/step - loss: 0.4495 - accuracy: 0.8422 - val_loss: 0.9800 - val_accuracy: 0.7156\n",
            "Epoch 7/10\n",
            "133/133 [==============================] - 94s 698ms/step - loss: 0.4347 - accuracy: 0.8488 - val_loss: 0.9810 - val_accuracy: 0.7147\n",
            "Epoch 8/10\n",
            "133/133 [==============================] - 94s 697ms/step - loss: 0.4176 - accuracy: 0.8515 - val_loss: 0.9612 - val_accuracy: 0.7246\n",
            "Epoch 9/10\n",
            "133/133 [==============================] - 94s 697ms/step - loss: 0.3951 - accuracy: 0.8598 - val_loss: 0.9456 - val_accuracy: 0.7250\n",
            "Epoch 10/10\n",
            "133/133 [==============================] - 94s 698ms/step - loss: 0.3874 - accuracy: 0.8639 - val_loss: 0.9362 - val_accuracy: 0.7232\n"
          ]
        }
      ]
    }
  ],
  "metadata": {
    "accelerator": "GPU",
    "colab": {
      "provenance": []
    },
    "gpuClass": "standard",
    "kernelspec": {
      "display_name": "Python 3",
      "name": "python3"
    },
    "language_info": {
      "name": "python"
    }
  },
  "nbformat": 4,
  "nbformat_minor": 0
}