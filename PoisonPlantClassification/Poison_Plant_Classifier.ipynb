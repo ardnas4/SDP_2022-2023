{
  "cells": [
    {
      "cell_type": "code",
      "execution_count": 28,
      "metadata": {
        "id": "EINB9fhdWmxI"
      },
      "outputs": [],
      "source": [
        "import os\n",
        "from tensorflow import keras\n",
        "from keras.models import Model\n",
        "from keras.preprocessing.image import ImageDataGenerator\n",
        "from keras.callbacks import ModelCheckpoint, EarlyStopping\n",
        "from keras.layers import Dense, Dropout, Flatten, GlobalAveragePooling2D\n",
        "\n",
        "from pathlib import Path\n",
        "import numpy as np\n",
        "import tensorflow as tf\n",
        "from keras.applications import ResNet50"
      ]
    },
    {
      "cell_type": "code",
      "execution_count": 2,
      "metadata": {
        "colab": {
          "base_uri": "https://localhost:8080/"
        },
        "id": "5Cl-Wwt6br0b",
        "outputId": "9baeced2-6aad-4eaa-8205-4e3cca372eed"
      },
      "outputs": [
        {
          "output_type": "stream",
          "name": "stdout",
          "text": [
            "Mounted at /content/drive\n"
          ]
        }
      ],
      "source": [
        "# on Google Colab, get the dataset from drive\n",
        "from google.colab import drive\n",
        "drive.mount('/content/drive')"
      ]
    },
    {
      "cell_type": "code",
      "execution_count": 3,
      "metadata": {
        "colab": {
          "base_uri": "https://localhost:8080/"
        },
        "id": "PvtNhK3nbwde",
        "outputId": "f2c88e36-19c0-4722-afc6-2f051fb0d52c"
      },
      "outputs": [
        {
          "output_type": "stream",
          "name": "stdout",
          "text": [
            "Done\n"
          ]
        }
      ],
      "source": [
        "# unzip the dataset for use\n",
        "from zipfile import ZipFile\n",
        "file_name = '/content/drive/MyDrive/Poison Plant Classifier/Dataset.zip'\n",
        "\n",
        "with ZipFile(file_name, 'r') as zip:\n",
        "  zip.extractall()\n",
        "  print('Done')"
      ]
    },
    {
      "cell_type": "code",
      "execution_count": 4,
      "metadata": {
        "colab": {
          "base_uri": "https://localhost:8080/"
        },
        "id": "ax0BW0qObDSK",
        "outputId": "753e5bc2-cc8c-4225-c041-0e42f3ab4367"
      },
      "outputs": [
        {
          "output_type": "stream",
          "name": "stdout",
          "text": [
            "Looking in indexes: https://pypi.org/simple, https://us-python.pkg.dev/colab-wheels/public/simple/\n",
            "Collecting split-folders\n",
            "  Downloading split_folders-0.5.1-py3-none-any.whl (8.4 kB)\n",
            "Installing collected packages: split-folders\n",
            "Successfully installed split-folders-0.5.1\n"
          ]
        }
      ],
      "source": [
        "!pip install split-folders"
      ]
    },
    {
      "cell_type": "code",
      "execution_count": 5,
      "metadata": {
        "colab": {
          "base_uri": "https://localhost:8080/"
        },
        "id": "b-rZOpkgbMMF",
        "outputId": "c2a5ac60-4be5-4209-8727-d6caff10f976"
      },
      "outputs": [
        {
          "output_type": "stream",
          "name": "stderr",
          "text": [
            "Copying files: 10610 files [00:04, 2130.65 files/s]\n"
          ]
        }
      ],
      "source": [
        "import splitfolders\n",
        "\n",
        "splitfolders.ratio(\"Dataset\", # The location of dataset\n",
        "                   output=\"Training_Datasets\", # The output location\n",
        "                   seed=42, # The number of seed\n",
        "                   ratio=(.8, .2), # The ratio of splited dataset\n",
        "                   group_prefix=None, # If your dataset contains more than one file like \".jpg\", \".pdf\", etc\n",
        "                   move=False # If you choose to move, turn this into True\n",
        "                   )"
      ]
    },
    {
      "cell_type": "code",
      "execution_count": 29,
      "metadata": {
        "colab": {
          "base_uri": "https://localhost:8080/"
        },
        "id": "xV-Q4d1H46k0",
        "outputId": "e9a93763-2e5b-4bb4-bc10-9ff3ba95784a"
      },
      "outputs": [
        {
          "output_type": "stream",
          "name": "stdout",
          "text": [
            "Found 8486 images belonging to 4 classes.\n",
            "Found 2124 images belonging to 4 classes.\n"
          ]
        }
      ],
      "source": [
        "train_dir = os.path.join('/content/Training_Datasets', 'train')\n",
        "validation_dir = os.path.join('/content/Training_Datasets', 'val')\n",
        "\n",
        "train_datagen = ImageDataGenerator(rescale = 1./255., rotation_range = 40, width_shift_range = 0.2, height_shift_range = 0.2, shear_range = 0.2, zoom_range = 0.2, horizontal_flip = True)\n",
        "\n",
        "test_datagen = ImageDataGenerator(rescale = 1.0/255.)\n",
        "\n",
        "train_generator = train_datagen.flow_from_directory(train_dir, batch_size = 20, class_mode = 'sparse', target_size = (224, 224))\n",
        "\n",
        "validation_generator = test_datagen.flow_from_directory( validation_dir, batch_size = 20, class_mode = 'sparse', target_size = (224, 224))"
      ]
    },
    {
      "cell_type": "code",
      "source": [
        "!pip install -U efficientnet"
      ],
      "metadata": {
        "colab": {
          "base_uri": "https://localhost:8080/"
        },
        "id": "443RX7Ck4DN_",
        "outputId": "c5926e4f-5f9b-4a05-d629-062bbd95d8f2"
      },
      "execution_count": 12,
      "outputs": [
        {
          "output_type": "stream",
          "name": "stdout",
          "text": [
            "Looking in indexes: https://pypi.org/simple, https://us-python.pkg.dev/colab-wheels/public/simple/\n",
            "Requirement already satisfied: efficientnet in /usr/local/lib/python3.8/dist-packages (1.1.1)\n",
            "Requirement already satisfied: keras-applications<=1.0.8,>=1.0.7 in /usr/local/lib/python3.8/dist-packages (from efficientnet) (1.0.8)\n",
            "Requirement already satisfied: scikit-image in /usr/local/lib/python3.8/dist-packages (from efficientnet) (0.18.3)\n",
            "Requirement already satisfied: h5py in /usr/local/lib/python3.8/dist-packages (from keras-applications<=1.0.8,>=1.0.7->efficientnet) (3.1.0)\n",
            "Requirement already satisfied: numpy>=1.9.1 in /usr/local/lib/python3.8/dist-packages (from keras-applications<=1.0.8,>=1.0.7->efficientnet) (1.21.6)\n",
            "Requirement already satisfied: matplotlib!=3.0.0,>=2.0.0 in /usr/local/lib/python3.8/dist-packages (from scikit-image->efficientnet) (3.2.2)\n",
            "Requirement already satisfied: pillow!=7.1.0,!=7.1.1,>=4.3.0 in /usr/local/lib/python3.8/dist-packages (from scikit-image->efficientnet) (7.1.2)\n",
            "Requirement already satisfied: imageio>=2.3.0 in /usr/local/lib/python3.8/dist-packages (from scikit-image->efficientnet) (2.9.0)\n",
            "Requirement already satisfied: PyWavelets>=1.1.1 in /usr/local/lib/python3.8/dist-packages (from scikit-image->efficientnet) (1.4.1)\n",
            "Requirement already satisfied: tifffile>=2019.7.26 in /usr/local/lib/python3.8/dist-packages (from scikit-image->efficientnet) (2023.1.23.1)\n",
            "Requirement already satisfied: networkx>=2.0 in /usr/local/lib/python3.8/dist-packages (from scikit-image->efficientnet) (3.0)\n",
            "Requirement already satisfied: scipy>=1.0.1 in /usr/local/lib/python3.8/dist-packages (from scikit-image->efficientnet) (1.7.3)\n",
            "Requirement already satisfied: python-dateutil>=2.1 in /usr/local/lib/python3.8/dist-packages (from matplotlib!=3.0.0,>=2.0.0->scikit-image->efficientnet) (2.8.2)\n",
            "Requirement already satisfied: cycler>=0.10 in /usr/local/lib/python3.8/dist-packages (from matplotlib!=3.0.0,>=2.0.0->scikit-image->efficientnet) (0.11.0)\n",
            "Requirement already satisfied: pyparsing!=2.0.4,!=2.1.2,!=2.1.6,>=2.0.1 in /usr/local/lib/python3.8/dist-packages (from matplotlib!=3.0.0,>=2.0.0->scikit-image->efficientnet) (3.0.9)\n",
            "Requirement already satisfied: kiwisolver>=1.0.1 in /usr/local/lib/python3.8/dist-packages (from matplotlib!=3.0.0,>=2.0.0->scikit-image->efficientnet) (1.4.4)\n",
            "Requirement already satisfied: six>=1.5 in /usr/local/lib/python3.8/dist-packages (from python-dateutil>=2.1->matplotlib!=3.0.0,>=2.0.0->scikit-image->efficientnet) (1.15.0)\n"
          ]
        }
      ]
    },
    {
      "cell_type": "code",
      "execution_count": 30,
      "metadata": {
        "id": "TOs1tXd8Wm9M"
      },
      "outputs": [],
      "source": [
        "import efficientnet.keras as efn\n",
        "\n",
        "base_model = keras.Sequential() \n",
        "base_model.add(efn.EfficientNetB0(input_shape = (224, 224, 3), include_top = False, weights = 'imagenet', classes=4))\n",
        "base_model.add(GlobalAveragePooling2D())\n",
        "base_model.add(Dropout(0.4))\n",
        "base_model.add(Dense(4, activation=\"softmax\"))\n",
        "\n",
        "base_model.compile(optimizer = tf.keras.optimizers.RMSprop(learning_rate=0.0001, decay=1e-6),loss='sparse_categorical_crossentropy',metrics=['accuracy'])"
      ]
    },
    {
      "cell_type": "code",
      "execution_count": 31,
      "metadata": {
        "colab": {
          "base_uri": "https://localhost:8080/"
        },
        "id": "AaOYZlWp-goZ",
        "outputId": "0e04d232-17c5-413e-fe4f-6d7070b28e47"
      },
      "outputs": [
        {
          "output_type": "stream",
          "name": "stdout",
          "text": [
            "Epoch 1/20\n",
            "425/425 [==============================] - 185s 399ms/step - loss: 0.9466 - accuracy: 0.5988 - val_loss: 0.6979 - val_accuracy: 0.7312\n",
            "Epoch 2/20\n",
            "425/425 [==============================] - 168s 394ms/step - loss: 0.6586 - accuracy: 0.7456 - val_loss: 0.5795 - val_accuracy: 0.7764\n",
            "Epoch 3/20\n",
            "425/425 [==============================] - 165s 388ms/step - loss: 0.5480 - accuracy: 0.7938 - val_loss: 0.5411 - val_accuracy: 0.7994\n",
            "Epoch 4/20\n",
            "425/425 [==============================] - 167s 392ms/step - loss: 0.4808 - accuracy: 0.8170 - val_loss: 0.4976 - val_accuracy: 0.8234\n",
            "Epoch 5/20\n",
            "425/425 [==============================] - 168s 395ms/step - loss: 0.4287 - accuracy: 0.8344 - val_loss: 0.5695 - val_accuracy: 0.8216\n",
            "Epoch 6/20\n",
            "425/425 [==============================] - 166s 391ms/step - loss: 0.3995 - accuracy: 0.8461 - val_loss: 0.5490 - val_accuracy: 0.8187\n",
            "Epoch 7/20\n",
            "425/425 [==============================] - 166s 391ms/step - loss: 0.3630 - accuracy: 0.8651 - val_loss: 0.5055 - val_accuracy: 0.8371\n",
            "Epoch 8/20\n",
            "425/425 [==============================] - 164s 386ms/step - loss: 0.3382 - accuracy: 0.8711 - val_loss: 0.5661 - val_accuracy: 0.8239\n",
            "Epoch 9/20\n",
            "425/425 [==============================] - 166s 391ms/step - loss: 0.3039 - accuracy: 0.8882 - val_loss: 0.6837 - val_accuracy: 0.8136\n",
            "Epoch 10/20\n",
            "425/425 [==============================] - 166s 391ms/step - loss: 0.2900 - accuracy: 0.8896 - val_loss: 0.5937 - val_accuracy: 0.8385\n",
            "Epoch 11/20\n",
            "425/425 [==============================] - 165s 388ms/step - loss: 0.2657 - accuracy: 0.8994 - val_loss: 0.6065 - val_accuracy: 0.8366\n",
            "Epoch 12/20\n",
            "425/425 [==============================] - 166s 391ms/step - loss: 0.2416 - accuracy: 0.9095 - val_loss: 0.6217 - val_accuracy: 0.8418\n",
            "Epoch 13/20\n",
            "425/425 [==============================] - 166s 391ms/step - loss: 0.2211 - accuracy: 0.9152 - val_loss: 0.6218 - val_accuracy: 0.8413\n",
            "Epoch 14/20\n",
            "425/425 [==============================] - 164s 386ms/step - loss: 0.2140 - accuracy: 0.9195 - val_loss: 0.5604 - val_accuracy: 0.8451\n",
            "Epoch 15/20\n",
            "425/425 [==============================] - 166s 390ms/step - loss: 0.1952 - accuracy: 0.9274 - val_loss: 0.7572 - val_accuracy: 0.8202\n",
            "Epoch 16/20\n",
            "425/425 [==============================] - 166s 390ms/step - loss: 0.1899 - accuracy: 0.9291 - val_loss: 0.6797 - val_accuracy: 0.8432\n",
            "Epoch 17/20\n",
            "425/425 [==============================] - 164s 386ms/step - loss: 0.1712 - accuracy: 0.9358 - val_loss: 0.6904 - val_accuracy: 0.8442\n",
            "Epoch 18/20\n",
            "425/425 [==============================] - 166s 391ms/step - loss: 0.1610 - accuracy: 0.9432 - val_loss: 0.7588 - val_accuracy: 0.8446\n",
            "Epoch 19/20\n",
            "425/425 [==============================] - 165s 387ms/step - loss: 0.1512 - accuracy: 0.9430 - val_loss: 0.7490 - val_accuracy: 0.8531\n",
            "Epoch 20/20\n",
            "425/425 [==============================] - 167s 392ms/step - loss: 0.1458 - accuracy: 0.9450 - val_loss: 0.8597 - val_accuracy: 0.8503\n"
          ]
        }
      ],
      "source": [
        "num_epochs = 20\n",
        "eff_history = base_model.fit(train_generator, validation_data = validation_generator, epochs = num_epochs)"
      ]
    },
    {
      "cell_type": "code",
      "execution_count": 33,
      "metadata": {
        "id": "I_iOdebiiKdZ",
        "colab": {
          "base_uri": "https://localhost:8080/",
          "height": 499
        },
        "outputId": "f8460463-a390-43b7-dde1-7ac935f20e14"
      },
      "outputs": [
        {
          "output_type": "display_data",
          "data": {
            "text/plain": [
              "<Figure size 576x576 with 2 Axes>"
            ],
            "image/png": "[encoded data removed]"
          },
          "metadata": {
            "needs_background": "light"
          }
        }
      ],
      "source": [
        "import matplotlib.pyplot as plt\n",
        "\n",
        "acc = eff_history.history['accuracy']\n",
        "val_acc = eff_history.history['val_accuracy']\n",
        "\n",
        "loss = eff_history.history['loss']\n",
        "val_loss = eff_history.history['val_loss']\n",
        "\n",
        "epochs_range = range(num_epochs)\n",
        "\n",
        "plt.figure(figsize=(8, 8))\n",
        "plt.subplot(1, 2, 1)\n",
        "plt.plot(epochs_range, acc, label='Training Accuracy')\n",
        "plt.plot(epochs_range, val_acc, label='Validation Accuracy')\n",
        "plt.legend(loc='lower right')\n",
        "plt.title('Training and Validation Accuracy')\n",
        "\n",
        "plt.subplot(1, 2, 2)\n",
        "plt.plot(epochs_range, loss, label='Training Loss')\n",
        "plt.plot(epochs_range, val_loss, label='Validation Loss')\n",
        "plt.legend(loc='upper right')\n",
        "plt.title('Training and Validation Loss')\n",
        "plt.show()"
      ]
    }
  ],
  "metadata": {
    "accelerator": "GPU",
    "colab": {
      "provenance": []
    },
    "gpuClass": "standard",
    "kernelspec": {
      "display_name": "Python 3",
      "name": "python3"
    },
    "language_info": {
      "name": "python"
    }
  },
  "nbformat": 4,
  "nbformat_minor": 0
}