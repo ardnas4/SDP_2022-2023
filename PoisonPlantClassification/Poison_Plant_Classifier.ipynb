{
  "nbformat": 4,
  "nbformat_minor": 0,
  "metadata": {
    "colab": {
      "provenance": []
    },
    "kernelspec": {
      "name": "python3",
      "display_name": "Python 3"
    },
    "language_info": {
      "name": "python"
    },
    "accelerator": "GPU",
    "gpuClass": "standard"
  },
  "cells": [
    {
      "cell_type": "code",
      "source": [
        "import os\n",
        "from keras.models import Model\n",
        "from keras.optimizers import Adam\n",
        "from keras.applications.vgg16 import VGG16, preprocess_input\n",
        "from keras.preprocessing.image import ImageDataGenerator\n",
        "from keras.callbacks import ModelCheckpoint, EarlyStopping\n",
        "from keras.layers import Dense, Dropout, Flatten\n",
        "from pathlib import Path\n",
        "import numpy as np\n",
        "import tensorflow as tf"
      ],
      "metadata": {
        "id": "EINB9fhdWmxI"
      },
      "execution_count": 25,
      "outputs": []
    },
    {
      "cell_type": "code",
      "source": [
        "# on Google Colab, get the dataset from drive\n",
        "from google.colab import drive\n",
        "drive.mount('/content/drive')"
      ],
      "metadata": {
        "colab": {
          "base_uri": "https://localhost:8080/"
        },
        "id": "5Cl-Wwt6br0b",
        "outputId": "c96fc224-28c9-4b12-dcf4-35f141022e52"
      },
      "execution_count": 26,
      "outputs": [
        {
          "output_type": "stream",
          "name": "stdout",
          "text": [
            "Drive already mounted at /content/drive; to attempt to forcibly remount, call drive.mount(\"/content/drive\", force_remount=True).\n"
          ]
        }
      ]
    },
    {
      "cell_type": "code",
      "source": [
        "# unzip the dataset for use\n",
        "from zipfile import ZipFile\n",
        "file_name = '/content/drive/MyDrive/Poison Plant Classifier/Dataset.zip'\n",
        "\n",
        "with ZipFile(file_name, 'r') as zip:\n",
        "  zip.extractall()\n",
        "  print('Done')"
      ],
      "metadata": {
        "colab": {
          "base_uri": "https://localhost:8080/"
        },
        "id": "PvtNhK3nbwde",
        "outputId": "8078cd9c-cc52-4fa1-ee32-56f81387fbcb"
      },
      "execution_count": 27,
      "outputs": [
        {
          "output_type": "stream",
          "name": "stdout",
          "text": [
            "Done\n"
          ]
        }
      ]
    },
    {
      "cell_type": "code",
      "source": [
        "!pip install split-folders"
      ],
      "metadata": {
        "colab": {
          "base_uri": "https://localhost:8080/"
        },
        "id": "ax0BW0qObDSK",
        "outputId": "b766cdc7-3db4-4512-a73f-6ba0ea54e104"
      },
      "execution_count": 28,
      "outputs": [
        {
          "output_type": "stream",
          "name": "stdout",
          "text": [
            "Looking in indexes: https://pypi.org/simple, https://us-python.pkg.dev/colab-wheels/public/simple/\n",
            "Requirement already satisfied: split-folders in /usr/local/lib/python3.8/dist-packages (0.5.1)\n"
          ]
        }
      ]
    },
    {
      "cell_type": "code",
      "source": [
        "import splitfolders\n",
        "\n",
        "splitfolders.ratio(\"Dataset\", # The location of dataset\n",
        "                   output=\"Training_Datasets\", # The output location\n",
        "                   seed=42, # The number of seed\n",
        "                   ratio=(.8, .2), # The ratio of splited dataset\n",
        "                   group_prefix=None, # If your dataset contains more than one file like \".jpg\", \".pdf\", etc\n",
        "                   move=False # If you choose to move, turn this into True\n",
        "                   )"
      ],
      "metadata": {
        "colab": {
          "base_uri": "https://localhost:8080/"
        },
        "id": "b-rZOpkgbMMF",
        "outputId": "0104daa9-524f-488a-afbe-d40c2c0ad28c"
      },
      "execution_count": 29,
      "outputs": [
        {
          "output_type": "stream",
          "name": "stderr",
          "text": [
            "Copying files: 10610 files [00:04, 2153.01 files/s]\n"
          ]
        }
      ]
    },
    {
      "cell_type": "code",
      "source": [
        "train_dir = os.path.join('/content/Training_Datasets', 'train')\n",
        "validation_dir = os.path.join('/content/Training_Datasets', 'val')\n",
        "\n",
        "train_dataset = tf.keras.utils.image_dataset_from_directory(train_dir,\n",
        "                                                            shuffle=True,\n",
        "                                                            label_mode='int',\n",
        "                                                            batch_size=64,\n",
        "                                                            image_size=(224, 224))\n",
        "\n",
        "validation_dataset = tf.keras.utils.image_dataset_from_directory(validation_dir,\n",
        "                                                                 shuffle=True,\n",
        "                                                                 label_mode='int',\n",
        "                                                                 batch_size=64,\n",
        "                                                                 image_size=(224, 224))\n",
        "                                                                 "
      ],
      "metadata": {
        "colab": {
          "base_uri": "https://localhost:8080/"
        },
        "id": "xV-Q4d1H46k0",
        "outputId": "0438f47c-fb10-4fce-c082-0425e0e72fce"
      },
      "execution_count": 30,
      "outputs": [
        {
          "output_type": "stream",
          "name": "stdout",
          "text": [
            "Found 8486 files belonging to 4 classes.\n",
            "Found 2124 files belonging to 4 classes.\n"
          ]
        }
      ]
    },
    {
      "cell_type": "code",
      "source": [
        "from tensorflow.keras.applications.vgg16 import VGG16\n",
        "\n",
        "base_model = VGG16(input_shape = (224, 224, 3), # Shape of our images\n",
        "include_top = False, # Leave out the last fully connected layer\n",
        "weights = 'imagenet')"
      ],
      "metadata": {
        "id": "TOs1tXd8Wm9M"
      },
      "execution_count": 31,
      "outputs": []
    },
    {
      "cell_type": "code",
      "source": [
        "for layer in base_model.layers:\n",
        "    layer.trainable = False"
      ],
      "metadata": {
        "id": "uXI6S-XV9_gE"
      },
      "execution_count": 32,
      "outputs": []
    },
    {
      "cell_type": "code",
      "source": [
        "\n",
        "# Flatten the output layer to 1 dimension\n",
        "x = tf.keras.layers.Flatten()(base_model.output)\n",
        "\n",
        "# Add a fully connected layer with 512 hidden units and eLU activation\n",
        "x = tf.keras.layers.Dense(512, activation='relu', kernel_regularizer=tf.keras.regularizers.l2(0.0001))(x)\n",
        "\n",
        "# Add a dropout rate of 0.5\n",
        "x = tf.keras.layers.Dropout(0.6)(x)\n",
        "\n",
        "# Add a final softmax layer with 1 node for classification output\n",
        "x = tf.keras.layers.Dense(4, activation='softmax')(x)\n",
        "\n",
        "model = tf.keras.models.Model(base_model.input, x)\n",
        "\n",
        "model.compile(optimizer = tf.keras.optimizers.RMSprop(learning_rate=0.0001), loss = 'sparse_categorical_crossentropy', metrics = ['accuracy'])"
      ],
      "metadata": {
        "id": "8utZS8u3-G9Z"
      },
      "execution_count": 33,
      "outputs": []
    },
    {
      "cell_type": "code",
      "source": [
        "vgghist = model.fit(train_dataset, validation_data = validation_dataset, epochs = 15)"
      ],
      "metadata": {
        "colab": {
          "base_uri": "https://localhost:8080/"
        },
        "id": "AaOYZlWp-goZ",
        "outputId": "fbaa9094-e381-4446-88b2-45a2c75857ed"
      },
      "execution_count": 34,
      "outputs": [
        {
          "output_type": "stream",
          "name": "stdout",
          "text": [
            "Epoch 1/15\n",
            "133/133 [==============================] - 55s 397ms/step - loss: 4.4557 - accuracy: 0.5013 - val_loss: 1.1730 - val_accuracy: 0.6347\n",
            "Epoch 2/15\n",
            "133/133 [==============================] - 54s 399ms/step - loss: 1.1461 - accuracy: 0.6739 - val_loss: 1.1504 - val_accuracy: 0.6756\n",
            "Epoch 3/15\n",
            "133/133 [==============================] - 56s 412ms/step - loss: 0.8252 - accuracy: 0.7600 - val_loss: 1.1752 - val_accuracy: 0.7010\n",
            "Epoch 4/15\n",
            "133/133 [==============================] - 55s 404ms/step - loss: 0.6299 - accuracy: 0.8191 - val_loss: 1.2196 - val_accuracy: 0.7053\n",
            "Epoch 5/15\n",
            "133/133 [==============================] - 55s 407ms/step - loss: 0.4886 - accuracy: 0.8644 - val_loss: 1.3167 - val_accuracy: 0.7218\n",
            "Epoch 6/15\n",
            "133/133 [==============================] - 54s 401ms/step - loss: 0.3922 - accuracy: 0.8930 - val_loss: 1.4030 - val_accuracy: 0.7236\n",
            "Epoch 7/15\n",
            "133/133 [==============================] - 55s 406ms/step - loss: 0.3247 - accuracy: 0.9116 - val_loss: 1.5306 - val_accuracy: 0.7222\n",
            "Epoch 8/15\n",
            "133/133 [==============================] - 56s 411ms/step - loss: 0.2881 - accuracy: 0.9227 - val_loss: 1.5811 - val_accuracy: 0.7260\n",
            "Epoch 9/15\n",
            "133/133 [==============================] - 55s 409ms/step - loss: 0.2704 - accuracy: 0.9341 - val_loss: 1.6426 - val_accuracy: 0.7288\n",
            "Epoch 10/15\n",
            "133/133 [==============================] - 56s 411ms/step - loss: 0.2408 - accuracy: 0.9387 - val_loss: 1.6013 - val_accuracy: 0.7316\n",
            "Epoch 11/15\n",
            "133/133 [==============================] - 55s 404ms/step - loss: 0.2164 - accuracy: 0.9492 - val_loss: 1.6787 - val_accuracy: 0.7293\n",
            "Epoch 12/15\n",
            "133/133 [==============================] - 54s 401ms/step - loss: 0.2051 - accuracy: 0.9520 - val_loss: 1.7443 - val_accuracy: 0.7293\n",
            "Epoch 13/15\n",
            "133/133 [==============================] - 54s 401ms/step - loss: 0.1538 - accuracy: 0.9619 - val_loss: 1.8389 - val_accuracy: 0.7302\n",
            "Epoch 14/15\n",
            "133/133 [==============================] - 55s 405ms/step - loss: 0.1707 - accuracy: 0.9611 - val_loss: 1.7813 - val_accuracy: 0.7326\n",
            "Epoch 15/15\n",
            "133/133 [==============================] - 55s 407ms/step - loss: 0.1656 - accuracy: 0.9629 - val_loss: 1.9917 - val_accuracy: 0.7269\n"
          ]
        }
      ]
    },
    {
      "cell_type": "code",
      "source": [
        "import matplotlib.pyplot as plt\n",
        "\n",
        "acc = vgghist.history['accuracy']\n",
        "val_acc = vgghist.history['val_accuracy']\n",
        "\n",
        "loss = vgghist.history['loss']\n",
        "val_loss = vgghist.history['val_loss']\n",
        "\n",
        "epochs_range = range(15)\n",
        "\n",
        "plt.figure(figsize=(8, 8))\n",
        "plt.subplot(1, 2, 1)\n",
        "plt.plot(epochs_range, acc, label='Training Accuracy')\n",
        "plt.plot(epochs_range, val_acc, label='Validation Accuracy')\n",
        "plt.legend(loc='lower right')\n",
        "plt.title('Training and Validation Accuracy')\n",
        "\n",
        "plt.subplot(1, 2, 2)\n",
        "plt.plot(epochs_range, loss, label='Training Loss')\n",
        "plt.plot(epochs_range, val_loss, label='Validation Loss')\n",
        "plt.legend(loc='upper right')\n",
        "plt.title('Training and Validation Loss')\n",
        "plt.show()"
      ],
      "metadata": {
        "id": "I_iOdebiiKdZ",
        "colab": {
          "base_uri": "https://localhost:8080/",
          "height": 499
        },
        "outputId": "12bcc6f6-1580-4190-eff1-c5dbd745534d"
      },
      "execution_count": 35,
      "outputs": [
        {
          "output_type": "display_data",
          "data": {
            "text/plain": [
              "<Figure size 576x576 with 2 Axes>"
            ],
            "image/png": "[encoded data removed]"
          },
          "metadata": {
            "needs_background": "light"
          }
        }
      ]
    }
  ]
}